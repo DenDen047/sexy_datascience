{
 "cells": [
  {
   "cell_type": "code",
   "execution_count": 9,
   "metadata": {},
   "outputs": [],
   "source": [
    "import os\n",
    "import numpy as np\n",
    "import pandas as pd\n",
    "import matplotlib.pyplot as plt\n",
    "%matplotlib inline"
   ]
  },
  {
   "cell_type": "code",
   "execution_count": 2,
   "metadata": {},
   "outputs": [],
   "source": [
    "DATASET_DIR = '/data'"
   ]
  },
  {
   "cell_type": "markdown",
   "metadata": {},
   "source": [
    "# import dataset"
   ]
  },
  {
   "cell_type": "code",
   "execution_count": 3,
   "metadata": {
    "scrolled": true
   },
   "outputs": [
    {
     "data": {
      "text/html": [
       "<div>\n",
       "<style scoped>\n",
       "    .dataframe tbody tr th:only-of-type {\n",
       "        vertical-align: middle;\n",
       "    }\n",
       "\n",
       "    .dataframe tbody tr th {\n",
       "        vertical-align: top;\n",
       "    }\n",
       "\n",
       "    .dataframe thead th {\n",
       "        text-align: right;\n",
       "    }\n",
       "</style>\n",
       "<table border=\"1\" class=\"dataframe\">\n",
       "  <thead>\n",
       "    <tr style=\"text-align: right;\">\n",
       "      <th></th>\n",
       "      <th>id</th>\n",
       "      <th>upload_date</th>\n",
       "      <th>title</th>\n",
       "      <th>channels</th>\n",
       "      <th>description</th>\n",
       "      <th>nb_views</th>\n",
       "      <th>nb_votes</th>\n",
       "      <th>nb_comments</th>\n",
       "      <th>runtime</th>\n",
       "      <th>uploader</th>\n",
       "    </tr>\n",
       "  </thead>\n",
       "  <tbody>\n",
       "    <tr>\n",
       "      <th>0</th>\n",
       "      <td>378466</td>\n",
       "      <td>2010-06-29</td>\n",
       "      <td>girl riding black cock</td>\n",
       "      <td>['BBW', 'Black and Ebony', 'Interracial']</td>\n",
       "      <td>Like this vid? Check out my profile page for m...</td>\n",
       "      <td>17262.0</td>\n",
       "      <td>65.0</td>\n",
       "      <td>11.0</td>\n",
       "      <td>120.0</td>\n",
       "      <td>6e008c23cabf079318976801718b043b383ed6e5</td>\n",
       "    </tr>\n",
       "    <tr>\n",
       "      <th>1</th>\n",
       "      <td>478576</td>\n",
       "      <td>2010-11-07</td>\n",
       "      <td>masturbation</td>\n",
       "      <td>['Masturbation']</td>\n",
       "      <td>watching a ebony chick cum.</td>\n",
       "      <td>953.0</td>\n",
       "      <td>3.0</td>\n",
       "      <td>NaN</td>\n",
       "      <td>15.0</td>\n",
       "      <td>54e2b5ed9557fc149d94abe5c6a833b6ce30d56b</td>\n",
       "    </tr>\n",
       "    <tr>\n",
       "      <th>2</th>\n",
       "      <td>287146</td>\n",
       "      <td>2010-02-12</td>\n",
       "      <td>sexy horny booty dance</td>\n",
       "      <td>['Babes', 'Teens', 'Webcams']</td>\n",
       "      <td>Watch as this sexy hot horny babe bounce her n...</td>\n",
       "      <td>6060.0</td>\n",
       "      <td>11.0</td>\n",
       "      <td>3.0</td>\n",
       "      <td>163.0</td>\n",
       "      <td>8b820c38b9d56e10c9bbe53e76afc26f9d750e25</td>\n",
       "    </tr>\n",
       "    <tr>\n",
       "      <th>3</th>\n",
       "      <td>378462</td>\n",
       "      <td>2010-06-29</td>\n",
       "      <td>group of young bareback sportsmen d</td>\n",
       "      <td>['Men']</td>\n",
       "      <td>NaN</td>\n",
       "      <td>12742.0</td>\n",
       "      <td>87.0</td>\n",
       "      <td>15.0</td>\n",
       "      <td>1980.0</td>\n",
       "      <td>e9b319e3708b85d1f533907fd3e95897610abf7d</td>\n",
       "    </tr>\n",
       "    <tr>\n",
       "      <th>4</th>\n",
       "      <td>1583073</td>\n",
       "      <td>2012-11-18</td>\n",
       "      <td>horny latinos double penetrating hot ass in a ...</td>\n",
       "      <td>['Gays']</td>\n",
       "      <td>Three Brazilian latino studs get horny in a st...</td>\n",
       "      <td>32879.0</td>\n",
       "      <td>75.0</td>\n",
       "      <td>6.0</td>\n",
       "      <td>1318.0</td>\n",
       "      <td>1d6d602097c45a3b08bbac16b1c6b72a75ff0f1e</td>\n",
       "    </tr>\n",
       "  </tbody>\n",
       "</table>\n",
       "</div>"
      ],
      "text/plain": [
       "        id upload_date                                              title  \\\n",
       "0   378466  2010-06-29                             girl riding black cock   \n",
       "1   478576  2010-11-07                                       masturbation   \n",
       "2   287146  2010-02-12                             sexy horny booty dance   \n",
       "3   378462  2010-06-29                group of young bareback sportsmen d   \n",
       "4  1583073  2012-11-18  horny latinos double penetrating hot ass in a ...   \n",
       "\n",
       "                                    channels  \\\n",
       "0  ['BBW', 'Black and Ebony', 'Interracial']   \n",
       "1                           ['Masturbation']   \n",
       "2              ['Babes', 'Teens', 'Webcams']   \n",
       "3                                    ['Men']   \n",
       "4                                   ['Gays']   \n",
       "\n",
       "                                         description  nb_views  nb_votes  \\\n",
       "0  Like this vid? Check out my profile page for m...   17262.0      65.0   \n",
       "1                        watching a ebony chick cum.     953.0       3.0   \n",
       "2  Watch as this sexy hot horny babe bounce her n...    6060.0      11.0   \n",
       "3                                                NaN   12742.0      87.0   \n",
       "4  Three Brazilian latino studs get horny in a st...   32879.0      75.0   \n",
       "\n",
       "   nb_comments  runtime                                  uploader  \n",
       "0         11.0    120.0  6e008c23cabf079318976801718b043b383ed6e5  \n",
       "1          NaN     15.0  54e2b5ed9557fc149d94abe5c6a833b6ce30d56b  \n",
       "2          3.0    163.0  8b820c38b9d56e10c9bbe53e76afc26f9d750e25  \n",
       "3         15.0   1980.0  e9b319e3708b85d1f533907fd3e95897610abf7d  \n",
       "4          6.0   1318.0  1d6d602097c45a3b08bbac16b1c6b72a75ff0f1e  "
      ]
     },
     "execution_count": 3,
     "metadata": {},
     "output_type": "execute_result"
    }
   ],
   "source": [
    "path = os.path.join(DATASET_DIR, 'xhamster.csv')\n",
    "xhamster_dataset = pd.read_csv(path, sep=\",\")\n",
    "xhamster_dataset.head()  # いい感じにデータを表示"
   ]
  },
  {
   "cell_type": "markdown",
   "metadata": {},
   "source": [
    "# 単回帰分析"
   ]
  },
  {
   "cell_type": "code",
   "execution_count": 13,
   "metadata": {},
   "outputs": [
    {
     "name": "stdout",
     "output_type": "stream",
     "text": [
      "[0.00119241]\n",
      "37.77855776505527\n",
      "0.7366341890763622\n"
     ]
    },
    {
     "data": {
      "text/plain": [
       "[<matplotlib.lines.Line2D at 0x7f8226847f90>]"
      ]
     },
     "execution_count": 13,
     "metadata": {},
     "output_type": "execute_result"
    },
    {
     "data": {
      "image/png": "[encoded data removed]",
      "text/plain": [
       "<Figure size 432x288 with 1 Axes>"
      ]
     },
     "metadata": {
      "needs_background": "light"
     },
     "output_type": "display_data"
    }
   ],
   "source": [
    "from sklearn import linear_model\n",
    "clf = linear_model.LinearRegression()\n",
    "\n",
    "X = xhamster_dataset.loc[:, ['nb_views']].values # 説明変数\n",
    "Y = xhamster_dataset['nb_votes'].values # 目的変数\n",
    "\n",
    "X = np.nan_to_num(X)\n",
    "Y = np.nan_to_num(Y)\n",
    " \n",
    "# 予測モデルを作成\n",
    "clf.fit(X, Y)\n",
    "\n",
    "# 結果を表示\n",
    "print(clf.coef_) # 回帰係数\n",
    "print(clf.intercept_) # 切片 (誤差)\n",
    "print(clf.score(X, Y)) # 決定係数\n",
    "\n",
    "# 図式化\n",
    "plt.scatter(X, Y) # 散布図\n",
    "plt.plot(X, clf.predict(X)) # 回帰直線"
   ]
  },
  {
   "cell_type": "markdown",
   "metadata": {},
   "source": [
    "# 重回帰分析"
   ]
  },
  {
   "cell_type": "code",
   "execution_count": null,
   "metadata": {},
   "outputs": [],
   "source": []
  }
 ],
 "metadata": {
  "kernelspec": {
   "display_name": "Python 2",
   "language": "python",
   "name": "python2"
  },
  "language_info": {
   "codemirror_mode": {
    "name": "ipython",
    "version": 2
   },
   "file_extension": ".py",
   "mimetype": "text/x-python",
   "name": "python",
   "nbconvert_exporter": "python",
   "pygments_lexer": "ipython2",
   "version": "2.7.15"
  }
 },
 "nbformat": 4,
 "nbformat_minor": 2
}
